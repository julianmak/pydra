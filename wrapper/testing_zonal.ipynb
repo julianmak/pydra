{
 "cells": [
  {
   "cell_type": "code",
   "execution_count": null,
   "metadata": {},
   "outputs": [],
   "source": [
    "# 20 Apr 2018\n",
    "#\n",
    "# plot the PV snapshots\n",
    "\n",
    "import pydra_read\n",
    "import matplotlib.pyplot as plt\n",
    "import numpy as np\n",
    "\n",
    "from casl import parameters, spectral"
   ]
  },
  {
   "cell_type": "code",
   "execution_count": null,
   "metadata": {},
   "outputs": [],
   "source": [
    "kt = 501\n",
    "\n",
    "data_dir = \"/home/julian/data/hydra_data/jet/nx128ny64hb0.50kd20.0bdpi0.8w0.50r001/\"\n",
    "\n",
    "t_now, qq = pydra_read.read_qq(data_dir, parameters.nx, parameters.ny, kt)\n",
    "\n",
    "# swap axis to have the indexing consistent with the Fortran code main_invert\n",
    "qq = np.swapaxes(qq, 0, 1)\n",
    "\n",
    "# no topography\n",
    "fhb = np.zeros((parameters.ny + 1, parameters.nx))\n",
    "\n",
    "x_vec = np.linspace(0, parameters.ellx, parameters.nx)\n",
    "y_vec = np.linspace(0, parameters.elly, parameters.ny + 1)"
   ]
  },
  {
   "cell_type": "code",
   "execution_count": null,
   "metadata": {},
   "outputs": [],
   "source": [
    "zfac = 1.0 / parameters.nx\n",
    "hzafac = zfac / 2.0\n",
    "\n",
    "uu, vv, pp = spectral.main_invert(qq, fhb)\n",
    "\n",
    "fig = plt.figure(figsize=(10, 7))\n",
    "\n",
    "ax1 = plt.subplot(2, 2, 1)\n",
    "plt.contourf(x_vec, y_vec, qq[:, :, 0], 31, cmap = \"RdBu_r\")\n",
    "plt.title(r\"qq1, t = %g\" % t_now)\n",
    "\n",
    "ax2 = plt.subplot(2, 2, 2)\n",
    "plt.plot(np.mean(qq[:, :, 0], axis = 1), y_vec) # x-average\n",
    "\n",
    "ax3 = plt.subplot(2, 2, 3)\n",
    "plt.contourf(x_vec, y_vec, uu[:, :, 0], 31, cmap = \"RdBu_r\")\n",
    "plt.title(r\"qq2, t = %g\" % t_now)\n",
    "\n",
    "ax4 = plt.subplot(2, 2, 4)\n",
    "plt.plot(np.mean(uu[:, :, 0], axis = 1), y_vec) # x-average"
   ]
  },
  {
   "cell_type": "code",
   "execution_count": null,
   "metadata": {},
   "outputs": [],
   "source": [
    "uu[:, 5, 0]"
   ]
  },
  {
   "cell_type": "markdown",
   "metadata": {},
   "source": []
  }
 ],
 "metadata": {
  "kernelspec": {
   "display_name": "Python 3",
   "language": "python",
   "name": "python3"
  },
  "language_info": {
   "codemirror_mode": {
    "name": "ipython",
    "version": 3
   },
   "file_extension": ".py",
   "mimetype": "text/x-python",
   "name": "python",
   "nbconvert_exporter": "python",
   "pygments_lexer": "ipython3",
   "version": "3.6.3"
  }
 },
 "nbformat": 4,
 "nbformat_minor": 2
}
